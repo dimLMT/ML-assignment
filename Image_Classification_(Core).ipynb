{
  "nbformat": 4,
  "nbformat_minor": 0,
  "metadata": {
    "colab": {
      "provenance": [],
      "mount_file_id": "1R3jHOcDZs-pHCzv5bIYG_yY5KU5IdX9i",
      "authorship_tag": "ABX9TyM5PaLDIAWkw8Udc7KDV2kD",
      "include_colab_link": true
    },
    "kernelspec": {
      "name": "python3",
      "display_name": "Python 3"
    },
    "language_info": {
      "name": "python"
    }
  },
  "cells": [
    {
      "cell_type": "markdown",
      "metadata": {
        "id": "view-in-github",
        "colab_type": "text"
      },
      "source": [
        "<a href=\"https://colab.research.google.com/github/dimLMT/ML-assignment/blob/main/Image_Classification_(Core).ipynb\" target=\"_parent\"><img src=\"https://colab.research.google.com/assets/colab-badge.svg\" alt=\"Open In Colab\"/></a>"
      ]
    },
    {
      "cell_type": "code",
      "execution_count": 10,
      "metadata": {
        "id": "gutfP2zChzu9"
      },
      "outputs": [],
      "source": [
        "import os, glob\n",
        "import matplotlib.pyplot as plt\n",
        "import numpy as np\n",
        "import tensorflow as tf\n",
        "\n",
        "from tensorflow.keras.utils import load_img, img_to_array, array_to_img\n",
        "from tensorflow.keras import layers, models\n",
        "from tensorflow.keras.utils import to_categorical\n",
        "\n",
        "# Set the seed for NumPy\n",
        "np.random.seed(42)\n",
        "# Set the seed for TensorFlow\n",
        "tf.random.set_seed(42)"
      ]
    },
    {
      "cell_type": "code",
      "source": [
        "# Checking the contents of xrays folder\n",
        "data_dir = \"/content/drive/MyDrive/CodingDojo/05-IntermediateML/Week20/Data/archive.zip (Unzipped Files)\"\n",
        "# Gettting the list of folders from data dir\n",
        "subfolders = os.listdir(data_dir)\n",
        "subfolders"
      ],
      "metadata": {
        "colab": {
          "base_uri": "https://localhost:8080/"
        },
        "id": "wLgqlIgeibEq",
        "outputId": "901b1a85-484f-4bf1-babe-f7b9f71f6c3d"
      },
      "execution_count": 2,
      "outputs": [
        {
          "output_type": "execute_result",
          "data": {
            "text/plain": [
              "['normal', 'covid', 'pneumonia']"
            ]
          },
          "metadata": {},
          "execution_count": 2
        }
      ]
    },
    {
      "cell_type": "code",
      "source": [
        "# Getting list of img file paths (no folders)\n",
        "img_files = glob.glob(data_dir+\"**/*\")\n",
        "img_files"
      ],
      "metadata": {
        "colab": {
          "base_uri": "https://localhost:8080/"
        },
        "id": "irzHx58esIPO",
        "outputId": "f48a8616-a181-49ac-d1e5-62427fdfbd83"
      },
      "execution_count": 11,
      "outputs": [
        {
          "output_type": "execute_result",
          "data": {
            "text/plain": [
              "['/content/drive/MyDrive/CodingDojo/05-IntermediateML/Week20/Data/archive.zip (Unzipped Files)/normal',\n",
              " '/content/drive/MyDrive/CodingDojo/05-IntermediateML/Week20/Data/archive.zip (Unzipped Files)/covid',\n",
              " '/content/drive/MyDrive/CodingDojo/05-IntermediateML/Week20/Data/archive.zip (Unzipped Files)/pneumonia']"
            ]
          },
          "metadata": {},
          "execution_count": 11
        }
      ]
    },
    {
      "cell_type": "code",
      "source": [],
      "metadata": {
        "id": "27s6MmyrsIR7"
      },
      "execution_count": null,
      "outputs": []
    },
    {
      "cell_type": "code",
      "source": [],
      "metadata": {
        "id": "9xEqmD_jibOW"
      },
      "execution_count": null,
      "outputs": []
    },
    {
      "cell_type": "code",
      "source": [],
      "metadata": {
        "id": "DHz0A6bFibRG"
      },
      "execution_count": null,
      "outputs": []
    },
    {
      "cell_type": "code",
      "source": [],
      "metadata": {
        "id": "G8iH8uwIibTs"
      },
      "execution_count": null,
      "outputs": []
    },
    {
      "cell_type": "code",
      "source": [],
      "metadata": {
        "id": "ucmHFgqBibV2"
      },
      "execution_count": null,
      "outputs": []
    }
  ]
}